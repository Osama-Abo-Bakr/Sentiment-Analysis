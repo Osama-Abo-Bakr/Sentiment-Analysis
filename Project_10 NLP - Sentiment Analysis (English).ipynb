{
 "cells": [
  {
   "cell_type": "markdown",
   "id": "32b23573",
   "metadata": {},
   "source": [
    "# Loading Library"
   ]
  },
  {
   "cell_type": "code",
   "execution_count": 1,
   "id": "2efa742b",
   "metadata": {},
   "outputs": [],
   "source": [
    "# Reading Data\n",
    "import pandas as pd\n",
    "import numpy as np\n",
    "import matplotlib.pyplot as plt\n",
    "import seaborn as sns\n",
    "\n",
    "# Data Preprocessing \n",
    "import nltk, string, re\n",
    "from nltk.corpus import stopwords\n",
    "from nltk.tokenize import word_tokenize\n",
    "from nltk.stem import WordNetLemmatizer\n",
    "from sklearn.feature_extraction.text import CountVectorizer, TfidfVectorizer\n",
    "\n",
    "# Splitting Data\n",
    "from sklearn.model_selection import train_test_split\n",
    "\n",
    "# Building Model\n",
    "from sklearn.naive_bayes import MultinomialNB\n",
    "from sklearn.ensemble import RandomForestClassifier\n",
    "import pickle"
   ]
  },
  {
   "cell_type": "markdown",
   "id": "3fb9edf0",
   "metadata": {},
   "source": [
    "# Loading Data"
   ]
  },
  {
   "cell_type": "code",
   "execution_count": 2,
   "id": "f5159b3d",
   "metadata": {},
   "outputs": [
    {
     "data": {
      "text/html": [
       "<div>\n",
       "<style scoped>\n",
       "    .dataframe tbody tr th:only-of-type {\n",
       "        vertical-align: middle;\n",
       "    }\n",
       "\n",
       "    .dataframe tbody tr th {\n",
       "        vertical-align: top;\n",
       "    }\n",
       "\n",
       "    .dataframe thead th {\n",
       "        text-align: right;\n",
       "    }\n",
       "</style>\n",
       "<table border=\"1\" class=\"dataframe\">\n",
       "  <thead>\n",
       "    <tr style=\"text-align: right;\">\n",
       "      <th></th>\n",
       "      <th>Review</th>\n",
       "      <th>Liked</th>\n",
       "    </tr>\n",
       "  </thead>\n",
       "  <tbody>\n",
       "    <tr>\n",
       "      <th>0</th>\n",
       "      <td>Wow... Loved this place.</td>\n",
       "      <td>1</td>\n",
       "    </tr>\n",
       "    <tr>\n",
       "      <th>1</th>\n",
       "      <td>Crust is not good.</td>\n",
       "      <td>0</td>\n",
       "    </tr>\n",
       "    <tr>\n",
       "      <th>2</th>\n",
       "      <td>Not tasty and the texture was just nasty.</td>\n",
       "      <td>0</td>\n",
       "    </tr>\n",
       "    <tr>\n",
       "      <th>3</th>\n",
       "      <td>Stopped by during the late May bank holiday of...</td>\n",
       "      <td>1</td>\n",
       "    </tr>\n",
       "    <tr>\n",
       "      <th>4</th>\n",
       "      <td>The selection on the menu was great and so wer...</td>\n",
       "      <td>1</td>\n",
       "    </tr>\n",
       "  </tbody>\n",
       "</table>\n",
       "</div>"
      ],
      "text/plain": [
       "                                              Review  Liked\n",
       "0                           Wow... Loved this place.      1\n",
       "1                                 Crust is not good.      0\n",
       "2          Not tasty and the texture was just nasty.      0\n",
       "3  Stopped by during the late May bank holiday of...      1\n",
       "4  The selection on the menu was great and so wer...      1"
      ]
     },
     "execution_count": 2,
     "metadata": {},
     "output_type": "execute_result"
    }
   ],
   "source": [
    "data = pd.read_csv(r\"D:\\Courses language programming\\LLM - Transformer - NLP\\NLP - Complete Course\\Projects For NLP\\Data\\a1_RestaurantReviews_HistoricDump.tsv\", delimiter=\"\\t\")\n",
    "\n",
    "data.head(5)"
   ]
  },
  {
   "cell_type": "code",
   "execution_count": 3,
   "id": "7ab47e43",
   "metadata": {},
   "outputs": [
    {
     "data": {
      "text/plain": [
       "Review    0\n",
       "Liked     0\n",
       "dtype: int64"
      ]
     },
     "execution_count": 3,
     "metadata": {},
     "output_type": "execute_result"
    }
   ],
   "source": [
    "data.isnull().sum()"
   ]
  },
  {
   "cell_type": "code",
   "execution_count": 4,
   "id": "b63bafb5",
   "metadata": {},
   "outputs": [
    {
     "name": "stdout",
     "output_type": "stream",
     "text": [
      "<class 'pandas.core.frame.DataFrame'>\n",
      "RangeIndex: 900 entries, 0 to 899\n",
      "Data columns (total 2 columns):\n",
      " #   Column  Non-Null Count  Dtype \n",
      "---  ------  --------------  ----- \n",
      " 0   Review  900 non-null    object\n",
      " 1   Liked   900 non-null    int64 \n",
      "dtypes: int64(1), object(1)\n",
      "memory usage: 14.2+ KB\n"
     ]
    }
   ],
   "source": [
    "data.info()"
   ]
  },
  {
   "cell_type": "code",
   "execution_count": 5,
   "id": "2cb1cb98",
   "metadata": {},
   "outputs": [
    {
     "data": {
      "image/png": "[encoded data removed]",
      "text/plain": [
       "<Figure size 640x480 with 1 Axes>"
      ]
     },
     "metadata": {},
     "output_type": "display_data"
    }
   ],
   "source": [
    "sns.countplot(x='Liked', data=data)\n",
    "plt.show()"
   ]
  },
  {
   "cell_type": "markdown",
   "id": "3cf67252",
   "metadata": {},
   "source": [
    "# Preprocessing"
   ]
  },
  {
   "cell_type": "code",
   "execution_count": 6,
   "id": "7f804a1b",
   "metadata": {},
   "outputs": [],
   "source": [
    "punc = list(string.punctuation)\n",
    "stop_words = stopwords.words(\"english\")\n",
    "lemma = WordNetLemmatizer()"
   ]
  },
  {
   "cell_type": "code",
   "execution_count": 7,
   "id": "d643f3b6",
   "metadata": {},
   "outputs": [],
   "source": [
    "def process_data(data):\n",
    "    data = data.lower()\n",
    "    data = re.sub('[^a-zA-Z]', ' ', data)\n",
    "    data = \" \".join([word for word in word_tokenize(data) if ((word not in punc) and (word not in stop_words))])\n",
    "    return data"
   ]
  },
  {
   "cell_type": "code",
   "execution_count": 8,
   "id": "d7c661ef",
   "metadata": {},
   "outputs": [],
   "source": [
    "data[\"Review\"] = data[\"Review\"].apply(process_data)"
   ]
  },
  {
   "cell_type": "code",
   "execution_count": 9,
   "id": "73aa6e9c",
   "metadata": {},
   "outputs": [
    {
     "data": {
      "text/html": [
       "<div>\n",
       "<style scoped>\n",
       "    .dataframe tbody tr th:only-of-type {\n",
       "        vertical-align: middle;\n",
       "    }\n",
       "\n",
       "    .dataframe tbody tr th {\n",
       "        vertical-align: top;\n",
       "    }\n",
       "\n",
       "    .dataframe thead th {\n",
       "        text-align: right;\n",
       "    }\n",
       "</style>\n",
       "<table border=\"1\" class=\"dataframe\">\n",
       "  <thead>\n",
       "    <tr style=\"text-align: right;\">\n",
       "      <th></th>\n",
       "      <th>Review</th>\n",
       "      <th>Liked</th>\n",
       "    </tr>\n",
       "  </thead>\n",
       "  <tbody>\n",
       "    <tr>\n",
       "      <th>0</th>\n",
       "      <td>wow loved place</td>\n",
       "      <td>1</td>\n",
       "    </tr>\n",
       "    <tr>\n",
       "      <th>1</th>\n",
       "      <td>crust good</td>\n",
       "      <td>0</td>\n",
       "    </tr>\n",
       "    <tr>\n",
       "      <th>2</th>\n",
       "      <td>tasty texture nasty</td>\n",
       "      <td>0</td>\n",
       "    </tr>\n",
       "    <tr>\n",
       "      <th>3</th>\n",
       "      <td>stopped late may bank holiday rick steve recom...</td>\n",
       "      <td>1</td>\n",
       "    </tr>\n",
       "    <tr>\n",
       "      <th>4</th>\n",
       "      <td>selection menu great prices</td>\n",
       "      <td>1</td>\n",
       "    </tr>\n",
       "  </tbody>\n",
       "</table>\n",
       "</div>"
      ],
      "text/plain": [
       "                                              Review  Liked\n",
       "0                                    wow loved place      1\n",
       "1                                         crust good      0\n",
       "2                                tasty texture nasty      0\n",
       "3  stopped late may bank holiday rick steve recom...      1\n",
       "4                        selection menu great prices      1"
      ]
     },
     "execution_count": 9,
     "metadata": {},
     "output_type": "execute_result"
    }
   ],
   "source": [
    "data.head()"
   ]
  },
  {
   "cell_type": "markdown",
   "id": "feeceb8e",
   "metadata": {},
   "source": [
    "# Splitting Data"
   ]
  },
  {
   "cell_type": "code",
   "execution_count": 10,
   "id": "9d21363d",
   "metadata": {},
   "outputs": [],
   "source": [
    "X = data[\"Review\"]\n",
    "Y = data[\"Liked\"].astype('int')"
   ]
  },
  {
   "cell_type": "markdown",
   "id": "b8d193e9",
   "metadata": {},
   "source": [
    "# Feature Extraction"
   ]
  },
  {
   "cell_type": "markdown",
   "id": "663923d5",
   "metadata": {},
   "source": [
    "## TF-IDF"
   ]
  },
  {
   "cell_type": "code",
   "execution_count": 11,
   "id": "323ca9b0",
   "metadata": {},
   "outputs": [
    {
     "data": {
      "text/plain": [
       "<2x1755 sparse matrix of type '<class 'numpy.float64'>'\n",
       "\twith 5 stored elements in Compressed Sparse Row format>"
      ]
     },
     "execution_count": 11,
     "metadata": {},
     "output_type": "execute_result"
    }
   ],
   "source": [
    "TF_IDF = TfidfVectorizer()\n",
    "X_TFIDF = TF_IDF.fit_transform(X)\n",
    "X_TFIDF[:2]"
   ]
  },
  {
   "cell_type": "code",
   "execution_count": 20,
   "id": "07ff9766",
   "metadata": {},
   "outputs": [
    {
     "data": {
      "text/plain": [
       "('wow loved place', 1)"
      ]
     },
     "execution_count": 20,
     "metadata": {},
     "output_type": "execute_result"
    }
   ],
   "source": [
    "X.iloc[0], Y[0]"
   ]
  },
  {
   "cell_type": "markdown",
   "id": "c274d582",
   "metadata": {},
   "source": [
    "## CountVectorizer"
   ]
  },
  {
   "cell_type": "code",
   "execution_count": 12,
   "id": "54d804cf",
   "metadata": {},
   "outputs": [
    {
     "data": {
      "text/plain": [
       "<2x1755 sparse matrix of type '<class 'numpy.int64'>'\n",
       "\twith 5 stored elements in Compressed Sparse Row format>"
      ]
     },
     "execution_count": 12,
     "metadata": {},
     "output_type": "execute_result"
    }
   ],
   "source": [
    "bag_of_words = CountVectorizer()\n",
    "X_bow = bag_of_words.fit_transform(X)\n",
    "X_bow[:2]"
   ]
  },
  {
   "cell_type": "markdown",
   "id": "f9415029",
   "metadata": {},
   "source": [
    "# Splitting Data Into Training & Testing"
   ]
  },
  {
   "cell_type": "code",
   "execution_count": 13,
   "id": "c9c4a473",
   "metadata": {},
   "outputs": [],
   "source": [
    "x_train_bow, x_test_bow, y_train_bow, y_test_bow = train_test_split(X_bow, Y, train_size=0.7)\n",
    "x_train_TFIDF, x_test_TFIDF, y_train_TFIDF, y_test_TFIDF = train_test_split(X_TFIDF, Y, train_size=0.7)"
   ]
  },
  {
   "cell_type": "markdown",
   "id": "88a0aad1",
   "metadata": {},
   "source": [
    "# Building Model"
   ]
  },
  {
   "cell_type": "markdown",
   "id": "f6490a3d",
   "metadata": {},
   "source": [
    "## MultinomialNB"
   ]
  },
  {
   "cell_type": "code",
   "execution_count": 14,
   "id": "056c87bf",
   "metadata": {},
   "outputs": [
    {
     "name": "stdout",
     "output_type": "stream",
     "text": [
      "THe Training Score is -->  0.9650793650793651\n",
      "THe Testing Score is -->  0.7555555555555555\n"
     ]
    }
   ],
   "source": [
    "model_bow = MultinomialNB()\n",
    "model_bow.fit(x_train_bow, y_train_bow)\n",
    "\n",
    "print('THe Training Score is --> ', model_bow.score(x_train_bow, y_train_bow))\n",
    "print('THe Testing Score is --> ', model_bow.score(x_test_bow, y_test_bow))"
   ]
  },
  {
   "cell_type": "code",
   "execution_count": 15,
   "id": "42bf5704",
   "metadata": {},
   "outputs": [
    {
     "name": "stdout",
     "output_type": "stream",
     "text": [
      "THe Training Score is -->  0.9587301587301588\n",
      "THe Testing Score is -->  0.7111111111111111\n"
     ]
    }
   ],
   "source": [
    "model_tfidf = MultinomialNB()\n",
    "model_tfidf.fit(x_train_TFIDF, y_train_TFIDF)\n",
    "\n",
    "print('THe Training Score is --> ', model_tfidf.score(x_train_TFIDF, y_train_TFIDF))\n",
    "print('THe Testing Score is --> ', model_tfidf.score(x_test_TFIDF, y_test_TFIDF))"
   ]
  },
  {
   "cell_type": "markdown",
   "id": "5e73c105",
   "metadata": {},
   "source": [
    "## RandomForest"
   ]
  },
  {
   "cell_type": "code",
   "execution_count": 16,
   "id": "44edffe3",
   "metadata": {},
   "outputs": [
    {
     "name": "stdout",
     "output_type": "stream",
     "text": [
      "THe Training Score is -->  0.9984126984126984\n",
      "THe Testing Score is -->  0.725925925925926\n"
     ]
    }
   ],
   "source": [
    "model_bow_rf = RandomForestClassifier()\n",
    "model_bow_rf.fit(x_train_bow, y_train_bow)\n",
    "\n",
    "print('THe Training Score is --> ', model_bow_rf.score(x_train_bow, y_train_bow))\n",
    "print('THe Testing Score is --> ', model_bow_rf.score(x_test_bow, y_test_bow))"
   ]
  },
  {
   "cell_type": "code",
   "execution_count": 17,
   "id": "c18df044",
   "metadata": {},
   "outputs": [
    {
     "name": "stdout",
     "output_type": "stream",
     "text": [
      "THe Training Score is -->  1.0\n",
      "THe Testing Score is -->  0.7296296296296296\n"
     ]
    }
   ],
   "source": [
    "model_tfidf_rf = RandomForestClassifier()\n",
    "model_tfidf_rf.fit(x_train_TFIDF, y_train_TFIDF)\n",
    "\n",
    "print('THe Training Score is --> ', model_tfidf_rf.score(x_train_TFIDF, y_train_TFIDF))\n",
    "print('THe Testing Score is --> ', model_tfidf_rf.score(x_test_TFIDF, y_test_TFIDF))"
   ]
  },
  {
   "cell_type": "markdown",
   "id": "d3d706d4",
   "metadata": {},
   "source": [
    "# Save"
   ]
  },
  {
   "cell_type": "code",
   "execution_count": 18,
   "id": "9c190167",
   "metadata": {},
   "outputs": [],
   "source": [
    "pickle.dump(TF_IDF, open(r'D:\\Pycharm\\Computer Vision Project\\NLP Project\\Sentiment Analysis (English)\\TFIDF.bin', 'wb'))\n",
    "pickle.dump(model_tfidf_rf, open(r'D:\\Pycharm\\Computer Vision Project\\NLP Project\\Sentiment Analysis (English)\\rf_model.bin', 'wb'))"
   ]
  },
  {
   "cell_type": "markdown",
   "id": "15f41a86",
   "metadata": {},
   "source": [
    "# Deploy"
   ]
  },
  {
   "cell_type": "code",
   "execution_count": null,
   "id": "86086800",
   "metadata": {},
   "outputs": [],
   "source": [
    "import streamlit as st\n",
    "import pickle\n",
    "\n",
    "\n",
    "model = pickle.load(open(r'D:\\Pycharm\\Computer Vision Project\\NLP Project\\Sentiment Analysis (English)\\rf_model.bin', 'rb'))\n",
    "tokenizer = pickle.load(open(r'D:\\Pycharm\\Computer Vision Project\\NLP Project\\Sentiment Analysis (English)\\TFIDF.bin', 'rb'))\n",
    "class_label = {1: 'Good', 0: 'Bad'}\n",
    "st.title('Sentiment Analysis (English). 📰️')\n",
    "\n",
    "text = st.text_input('Enter THe Text')\n",
    "if text:\n",
    "    text = tokenizer.transform([text])\n",
    "    if st.button('predict'):\n",
    "        prediction = model.predict(text)[0]\n",
    "        st.write(class_label[prediction])\n"
   ]
  },
  {
   "cell_type": "markdown",
   "id": "1bcc8f01",
   "metadata": {},
   "source": [
    "# Creating Using Hugging Face"
   ]
  },
  {
   "cell_type": "code",
   "execution_count": 26,
   "id": "1cd575b5",
   "metadata": {},
   "outputs": [],
   "source": [
    "# from transformers import pipeline\n",
    "\n",
    "# distilled_student_sentiment_classifier = pipeline(\n",
    "#     model=\"lxyuan/distilbert-base-multilingual-cased-sentiments-student\", \n",
    "#     return_all_scores=True\n",
    "# )"
   ]
  },
  {
   "cell_type": "code",
   "execution_count": 27,
   "id": "db087f2a",
   "metadata": {},
   "outputs": [],
   "source": [
    "# # english\n",
    "# distilled_student_sentiment_classifier (\"I love this movie and i would watch it again and again!\")\n",
    "# >> [[{'label': 'positive', 'score': 0.9731044769287109},\n",
    "#   {'label': 'neutral', 'score': 0.016910076141357422},\n",
    "#   {'label': 'negative', 'score': 0.009985478594899178}]]\n",
    "\n",
    "# # malay\n",
    "# distilled_student_sentiment_classifier(\"Saya suka filem ini dan saya akan menontonnya lagi dan lagi!\")\n",
    "# [[{'label': 'positive', 'score': 0.9760093688964844},\n",
    "#   {'label': 'neutral', 'score': 0.01804516464471817},\n",
    "#   {'label': 'negative', 'score': 0.005945465061813593}]]\n",
    "\n",
    "# # japanese\n",
    "# distilled_student_sentiment_classifier(\"私はこの映画が大好きで、何度も見ます！\")\n",
    "# >> [[{'label': 'positive', 'score': 0.9342429041862488},\n",
    "#   {'label': 'neutral', 'score': 0.040193185210227966},\n",
    "#   {'label': 'negative', 'score': 0.025563929229974747}]]\n"
   ]
  }
 ],
 "metadata": {
  "kernelspec": {
   "display_name": "Python 3 (ipykernel)",
   "language": "python",
   "name": "python3"
  },
  "language_info": {
   "codemirror_mode": {
    "name": "ipython",
    "version": 3
   },
   "file_extension": ".py",
   "mimetype": "text/x-python",
   "name": "python",
   "nbconvert_exporter": "python",
   "pygments_lexer": "ipython3",
   "version": "3.7.16"
  }
 },
 "nbformat": 4,
 "nbformat_minor": 5
}
